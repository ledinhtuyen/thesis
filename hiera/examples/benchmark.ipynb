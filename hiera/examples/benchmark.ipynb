{
 "cells": [
  {
   "attachments": {},
   "cell_type": "markdown",
   "metadata": {},
   "source": [
    "# **Example**: Hiera Benchmarking\n",
    "\n",
    "Sample code for how to benchmark Hiera models for different modalities.\n",
    "You might have to fiddle with the batch size to get the highest numbers for your environment.\n",
    "\n",
    "**Note**: Requires the `hiera` package to be installed."
   ]
  },
  {
   "cell_type": "code",
   "execution_count": 1,
   "metadata": {},
   "outputs": [],
   "source": [
    "import hiera\n",
    "from hiera.benchmarking import benchmark"
   ]
  },
  {
   "attachments": {},
   "cell_type": "markdown",
   "metadata": {},
   "source": [
    "## Images\n",
    "Benchmarking a Hiera model on 224x224 images. Results are in im/s.\n",
    "\n",
    "**Note**: I'm using a Quadro GP100 here, your results should be better."
   ]
  },
  {
   "cell_type": "code",
   "execution_count": 2,
   "metadata": {},
   "outputs": [
    {
     "name": "stderr",
     "output_type": "stream",
     "text": [
      "Benchmarking: 100%|██████████| 40/40 [00:10<00:00,  3.94it/s]\n"
     ]
    },
    {
     "name": "stdout",
     "output_type": "stream",
     "text": [
      "Throughput: 264.28 im/s\n"
     ]
    },
    {
     "data": {
      "text/plain": [
       "264.280846570216"
      ]
     },
     "execution_count": 2,
     "metadata": {},
     "output_type": "execute_result"
    }
   ],
   "source": [
    "# Create a Hiera-B model for images\n",
    "model = hiera.hiera_base_224()\n",
    "\n",
    "# Run an fp16 benchmark\n",
    "benchmark(model, device=0, input_size=(3, 224, 224), batch_size=64, runs=40, use_fp16=True, verbose=True)"
   ]
  },
  {
   "attachments": {},
   "cell_type": "markdown",
   "metadata": {},
   "source": [
    "## Video\n",
    "Benchmarking a Hiera model on 16 frames of 224x224 images. Results are in clips/s.\n",
    "\n",
    "**Note**: I'm using a Quadro GP100 here, your results should be better."
   ]
  },
  {
   "cell_type": "code",
   "execution_count": 3,
   "metadata": {},
   "outputs": [
    {
     "name": "stderr",
     "output_type": "stream",
     "text": [
      "Benchmarking: 100%|██████████| 40/40 [00:12<00:00,  3.17it/s]\n"
     ]
    },
    {
     "name": "stdout",
     "output_type": "stream",
     "text": [
      "Throughput: 24.77 im/s\n"
     ]
    },
    {
     "data": {
      "text/plain": [
       "24.76710762205785"
      ]
     },
     "execution_count": 3,
     "metadata": {},
     "output_type": "execute_result"
    }
   ],
   "source": [
    "# Create a Hiera-B model for video\n",
    "model = hiera.hiera_base_16x224()\n",
    "\n",
    "# Run an fp16 benchmark\n",
    "benchmark(model, device=0, input_size=(3, 16, 224, 224), batch_size=8, runs=40, use_fp16=True, verbose=True)"
   ]
  },
  {
   "cell_type": "code",
   "execution_count": null,
   "metadata": {},
   "outputs": [],
   "source": []
  }
 ],
 "metadata": {
  "kernelspec": {
   "display_name": "Python 3",
   "language": "python",
   "name": "python3"
  },
  "language_info": {
   "codemirror_mode": {
    "name": "ipython",
    "version": 3
   },
   "file_extension": ".py",
   "mimetype": "text/x-python",
   "name": "python",
   "nbconvert_exporter": "python",
   "pygments_lexer": "ipython3",
   "version": "3.10.11"
  },
  "orig_nbformat": 4
 },
 "nbformat": 4,
 "nbformat_minor": 2
}
